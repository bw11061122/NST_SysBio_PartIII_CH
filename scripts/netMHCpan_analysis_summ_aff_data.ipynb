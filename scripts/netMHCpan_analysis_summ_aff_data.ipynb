{
 "cells": [
  {
   "cell_type": "markdown",
   "metadata": {},
   "source": [
    "## NetMHCpan affinity predictions - create summary df"
   ]
  },
  {
   "cell_type": "code",
   "execution_count": 1,
   "metadata": {},
   "outputs": [
    {
     "name": "stdout",
     "output_type": "stream",
     "text": [
      "Intel MKL WARNING: Support of Intel(R) Streaming SIMD Extensions 4.2 (Intel(R) SSE4.2) enabled only processors has been deprecated. Intel oneAPI Math Kernel Library 2025.0 will require Intel(R) Advanced Vector Extensions (Intel(R) AVX) instructions.\n",
      "Intel MKL WARNING: Support of Intel(R) Streaming SIMD Extensions 4.2 (Intel(R) SSE4.2) enabled only processors has been deprecated. Intel oneAPI Math Kernel Library 2025.0 will require Intel(R) Advanced Vector Extensions (Intel(R) AVX) instructions.\n"
     ]
    }
   ],
   "source": [
    "import pandas as pd\n",
    "import time\n",
    "import os\n",
    "import numpy as np\n",
    "import time "
   ]
  },
  {
   "cell_type": "code",
   "execution_count": null,
   "metadata": {},
   "outputs": [],
   "source": [
    "\n",
    "# load the data \n",
    "pred_df = pd.read_csv('/Users/barbarawalkowiak/Desktop/msc_thesis/task1_predict_binding_to_HLA/netMHC_out/scores/20240210_NetMHC_HLA_UKBB_with_affinities.csv')\n",
    "\n",
    "# group the data by genetic variant and allele\n",
    "idx_min_score = pred_df.groupby(['gene_var', 'genotype', 'HLA'])['%Rank_EL'].idxmin() # find the index of the row which has the lowest %EL rank (best scoring)\n",
    "\n",
    "# subset the df to only find the best rows \n",
    "result_df = pred_df.loc[idx_min_score]\n",
    "result_df.shape # NB 16296 = 42 (# variants) * 2 (refseq + ch) * 194 (nr of HLA alleles available and UKBB relevant)\n",
    "\n",
    "result_df.to_csv('/Users/barbarawalkowiak/Desktop/msc_thesis/task1_predict_binding_to_HLA/netMHC_out/scores/20240210_NetMHC_HLA_UKBB_with_affinities_bestscores.csv')"
   ]
  },
  {
   "cell_type": "code",
   "execution_count": 3,
   "metadata": {},
   "outputs": [],
   "source": [
    "\n",
    "# load the data \n",
    "pred_df = pd.read_csv('/Users/barbarawalkowiak/Desktop/msc_thesis/task1_predict_binding_to_HLA/netMHCII_out/scores/20240211_NetMHC_HLA_UKBB_with_affinities.csv')\n",
    "\n",
    "# group the data by genetic variant and allele\n",
    "idx_min_score = pred_df.groupby(['gene_var', 'genotype', 'HLA'])['%Rank_EL'].idxmin() # find the index of the row which has the lowest %EL rank (best scoring)\n",
    "\n",
    "# subset the df to only find the best rows \n",
    "result_df = pred_df.loc[idx_min_score]\n",
    "result_df.shape # NB 16296 = 42 (# variants) * 2 (refseq + ch) * 194 (nr of HLA alleles available and UKBB relevant)\n",
    "\n",
    "result_df.to_csv('/Users/barbarawalkowiak/Desktop/msc_thesis/task1_predict_binding_to_HLA/netMHCII_out/scores/20240211_NetMHC_HLA_UKBB_with_affinities_bestscores.csv')"
   ]
  },
  {
   "cell_type": "code",
   "execution_count": 2,
   "metadata": {},
   "outputs": [],
   "source": [
    "\n",
    "# load the data \n",
    "pred_df = pd.read_csv('/Users/barbarawalkowiak/Desktop/msc_thesis/task1_predict_binding_to_HLA/netMHCII_out/scores/20240214_NetMHC_HLA_UKBB_with_affinities_DR.csv')\n",
    "\n",
    "# group the data by genetic variant and allele\n",
    "idx_min_score = pred_df.groupby(['gene_var', 'genotype', 'HLA'])['%Rank_EL'].idxmin() # find the index of the row which has the lowest %EL rank (best scoring)\n",
    "\n",
    "# subset the df to only find the best rows \n",
    "result_df = pred_df.loc[idx_min_score]\n",
    "result_df.shape # NB 16296 = 42 (# variants) * 2 (refseq + ch) * 194 (nr of HLA alleles available and UKBB relevant)\n",
    "\n",
    "result_df.to_csv('/Users/barbarawalkowiak/Desktop/msc_thesis/task1_predict_binding_to_HLA/netMHCII_out/scores/20240214_NetMHC_HLA_UKBB_with_affinities_DR_bestscores.csv')"
   ]
  },
  {
   "cell_type": "code",
   "execution_count": 3,
   "metadata": {},
   "outputs": [],
   "source": [
    "\n",
    "# load the data \n",
    "pred_df = pd.read_csv('/Users/barbarawalkowiak/Desktop/msc_thesis/task1_predict_binding_to_HLA/netMHCII_out/scores/20240214_NetMHC_HLA_UKBB_with_affinities_DR_stopcodons.csv')\n",
    "\n",
    "# group the data by genetic variant and allele\n",
    "idx_min_score = pred_df.groupby(['gene_var', 'genotype', 'HLA'])['%Rank_EL'].idxmin() # find the index of the row which has the lowest %EL rank (best scoring)\n",
    "\n",
    "# subset the df to only find the best rows \n",
    "result_df = pred_df.loc[idx_min_score]\n",
    "result_df.shape # NB 16296 = 42 (# variants) * 2 (refseq + ch) * 194 (nr of HLA alleles available and UKBB relevant)\n",
    "\n",
    "result_df.to_csv('/Users/barbarawalkowiak/Desktop/msc_thesis/task1_predict_binding_to_HLA/netMHCII_out/scores/20240214_NetMHC_HLA_UKBB_with_affinities_DR_stopcodons_bestscores.csv')\n"
   ]
  },
  {
   "cell_type": "code",
   "execution_count": 4,
   "metadata": {},
   "outputs": [],
   "source": [
    "\n",
    "pred_df = pd.read_csv('/Users/barbarawalkowiak/Desktop/msc_thesis/task1_predict_binding_to_HLA/netMHCII_out/scores/20240214_NetMHC_HLA_UKBB_with_affinities_DP_DQ_stopcodons.csv')\n",
    "\n",
    "# group the data by genetic variant and allele\n",
    "idx_min_score = pred_df.groupby(['gene_var', 'genotype', 'HLA'])['%Rank_EL'].idxmin() # find the index of the row which has the lowest %EL rank (best scoring)\n",
    "\n",
    "# subset the df to only find the best rows \n",
    "result_df = pred_df.loc[idx_min_score]\n",
    "result_df.shape # NB 16296 = 42 (# variants) * 2 (refseq + ch) * 194 (nr of HLA alleles available and UKBB relevant)\n",
    "\n",
    "result_df.to_csv('/Users/barbarawalkowiak/Desktop/msc_thesis/task1_predict_binding_to_HLA/netMHCII_out/scores/20240214_NetMHC_HLA_UKBB_with_affinities_DP_DQ_stopcodons_bestscores.csv')\n"
   ]
  },
  {
   "cell_type": "code",
   "execution_count": 2,
   "metadata": {},
   "outputs": [],
   "source": [
    "\n",
    "pred_df = pd.read_csv('/Users/barbarawalkowiak/Desktop/msc_thesis/task1_predict_binding_to_HLA/netMHCII_out/scores/20240215_NetMHC_HLA_UKBB_with_affinities_DP_DQ_R736C.csv')\n",
    "\n",
    "# group the data by genetic variant and allele\n",
    "idx_min_score = pred_df.groupby(['gene_var', 'genotype', 'HLA'])['%Rank_EL'].idxmin() # find the index of the row which has the lowest %EL rank (best scoring)\n",
    "\n",
    "# subset the df to only find the best rows \n",
    "result_df = pred_df.loc[idx_min_score]\n",
    "result_df.shape # NB 16296 = 42 (# variants) * 2 (refseq + ch) * 194 (nr of HLA alleles available and UKBB relevant)\n",
    "\n",
    "result_df.to_csv('/Users/barbarawalkowiak/Desktop/msc_thesis/task1_predict_binding_to_HLA/netMHCII_out/scores/20240215_NetMHC_HLA_UKBB_with_affinities_DP_DQ_R736C_bestscores.csv')"
   ]
  },
  {
   "cell_type": "code",
   "execution_count": 3,
   "metadata": {},
   "outputs": [],
   "source": [
    "\n",
    "pred_df = pd.read_csv('/Users/barbarawalkowiak/Desktop/msc_thesis/task1_predict_binding_to_HLA/netMHCII_out/scores/20240215_NetMHC_HLA_UKBB_with_affinities_DR_R736C.csv')\n",
    "\n",
    "# group the data by genetic variant and allele\n",
    "idx_min_score = pred_df.groupby(['gene_var', 'genotype', 'HLA'])['%Rank_EL'].idxmin() # find the index of the row which has the lowest %EL rank (best scoring)\n",
    "\n",
    "# subset the df to only find the best rows \n",
    "result_df = pred_df.loc[idx_min_score]\n",
    "result_df.shape # NB 16296 = 42 (# variants) * 2 (refseq + ch) * 194 (nr of HLA alleles available and UKBB relevant)\n",
    "\n",
    "result_df.to_csv('/Users/barbarawalkowiak/Desktop/msc_thesis/task1_predict_binding_to_HLA/netMHCII_out/scores/20240215_NetMHC_HLA_UKBB_with_affinities_DR_R736C_bestscores.csv')"
   ]
  }
 ],
 "metadata": {
  "interpreter": {
   "hash": "0f7ce23157ce174a1a3fe341bc6f4cb0402b55b5daa3990f1788f1f52a1bdd75"
  },
  "kernelspec": {
   "display_name": "Python 3.8.18 64-bit ('mhcflurry-env')",
   "language": "python",
   "name": "python3"
  },
  "language_info": {
   "codemirror_mode": {
    "name": "ipython",
    "version": 3
   },
   "file_extension": ".py",
   "mimetype": "text/x-python",
   "name": "python",
   "nbconvert_exporter": "python",
   "pygments_lexer": "ipython3",
   "version": "3.8.18"
  },
  "orig_nbformat": 4
 },
 "nbformat": 4,
 "nbformat_minor": 2
}
